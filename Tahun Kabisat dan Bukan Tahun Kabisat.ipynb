{
 "cells": [
  {
   "cell_type": "markdown",
   "metadata": {},
   "source": [
    "# Tahun Kabisat dan Bukan Tahun Kabisat\n",
    "\n",
    "Tahun kabisat adalah tahun yang memiliki jumlah hari yang lebih banyak daripada tahun biasa, yaitu sebanyak 366 hari. Sedangkan tahun biasa memiliki banyak jumlah hari sama dengan 365 hari. Tahun kabisat berualang setiap empat tahun sekali. Kriteria tahun kabisat adalah tahun dengan bilangan yang habis dibagi 4, 100, dan 400.\n",
    "\n",
    "\n",
    "Misalnya: tahun 2000\n",
    "1. 2000 dapat habis terbagi 4, yaitu sama dengan 500\n",
    "2. 2000 dapat habis terbagi 100, yaitu sama dengan 20\n",
    "3. 2000 dapat habis terbagi 400, yaitu sama dengan 5\n",
    "sehingga tahun 2000 merupakan tahun kabisat\n",
    "\n",
    "\n",
    "Contoh lain, tahun 1990:\n",
    "1. 1990 tidak habis terbagi oleh 4, memiliki sisa sama dengan 3\n",
    "sehingga tahun 1990 bukan merupakan tahun kabisat\n",
    "\n",
    "Penentuan tahun kabisat dapat dituliskan dalam kode untuk bahasa python seperti berikut."
   ]
  },
  {
   "cell_type": "code",
   "execution_count": 1,
   "metadata": {},
   "outputs": [
    {
     "name": "stdout",
     "output_type": "stream",
     "text": [
      "Masukkan tahun (atau ketik 0 untuk berhenti) = 2000\n",
      "2000 adalah tahun kabisat\n",
      "Masukkan tahun (atau ketik 0 untuk berhenti)= 1990\n",
      "1990 adalah bukan tahun kabisat\n",
      "Masukkan tahun (atau ketik 0 untuk berhenti)= 0\n"
     ]
    }
   ],
   "source": [
    "year = int(input(\"Masukkan tahun (atau ketik 0 untuk berhenti) = \"))\n",
    "\n",
    "while True:\n",
    "    if year == 0:\n",
    "        break\n",
    "    else:\n",
    "        if year % 4 == 0 & year % 100 == 0 & year % 400 == 0:\n",
    "            print(year, \"adalah tahun kabisat\")\n",
    "        else:\n",
    "            print(year, \"adalah bukan tahun kabisat\")\n",
    "\n",
    "    year = int(input(\"Masukkan tahun (atau ketik 0 untuk berhenti)= \"))"
   ]
  },
  {
   "cell_type": "markdown",
   "metadata": {},
   "source": [
    "Itulah tadi kode untuk menentukan tahun kabisat atau bukan tahun kabisat dalam bahasa python. Semoga bermanfaat."
   ]
  }
 ],
 "metadata": {
  "kernelspec": {
   "display_name": "Python 3",
   "language": "python",
   "name": "python3"
  },
  "language_info": {
   "codemirror_mode": {
    "name": "ipython",
    "version": 3
   },
   "file_extension": ".py",
   "mimetype": "text/x-python",
   "name": "python",
   "nbconvert_exporter": "python",
   "pygments_lexer": "ipython3",
   "version": "3.7.0"
  }
 },
 "nbformat": 4,
 "nbformat_minor": 2
}
